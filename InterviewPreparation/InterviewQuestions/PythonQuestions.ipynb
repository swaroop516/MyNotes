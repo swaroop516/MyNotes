{
 "cells": [
  {
   "cell_type": "markdown",
   "id": "71a19d02",
   "metadata": {},
   "source": [
    "1. Given a “2 x n” board and tiles of size “2 x 1”, count the number of ways to tile the given board using the 2 x 1 tiles. A tile can either be placed horizontally i.e., as a 1 x 2 tile or vertically i.e., as 2 x 1 tile. "
   ]
  },
  {
   "cell_type": "code",
   "execution_count": 17,
   "id": "1ca3d52f",
   "metadata": {},
   "outputs": [],
   "source": [
    "import numpy as np\n",
    "s = np.random.normal(2, 1, 10)"
   ]
  },
  {
   "cell_type": "code",
   "execution_count": 18,
   "id": "08d473de",
   "metadata": {},
   "outputs": [
    {
     "data": {
      "text/plain": [
       "array([2.26942332, 2.18387174, 1.10553087, 2.74394089, 2.00482323,\n",
       "       2.3893994 , 3.10980423, 2.87492256, 1.85600652, 1.40936798])"
      ]
     },
     "execution_count": 18,
     "metadata": {},
     "output_type": "execute_result"
    }
   ],
   "source": [
    "s"
   ]
  },
  {
   "cell_type": "code",
   "execution_count": null,
   "id": "2c65b635",
   "metadata": {},
   "outputs": [],
   "source": []
  }
 ],
 "metadata": {
  "kernelspec": {
   "display_name": "Python 3 (ipykernel)",
   "language": "python",
   "name": "python3"
  },
  "language_info": {
   "codemirror_mode": {
    "name": "ipython",
    "version": 3
   },
   "file_extension": ".py",
   "mimetype": "text/x-python",
   "name": "python",
   "nbconvert_exporter": "python",
   "pygments_lexer": "ipython3",
   "version": "3.9.7"
  }
 },
 "nbformat": 4,
 "nbformat_minor": 5
}
